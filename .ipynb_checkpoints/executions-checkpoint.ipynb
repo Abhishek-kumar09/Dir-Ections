{
 "cells": [
  {
   "cell_type": "code",
   "execution_count": 5,
   "metadata": {},
   "outputs": [],
   "source": [
    "import os\n",
    "import time"
   ]
  },
  {
   "cell_type": "code",
   "execution_count": 3,
   "metadata": {},
   "outputs": [
    {
     "name": "stdout",
     "output_type": "stream",
     "text": [
      "You are inside /home/abhishek99/Documents/Untitled Folder\n"
     ]
    }
   ],
   "source": [
    "path = os.getcwd()\n",
    "print(\"You are inside \" + path)"
   ]
  },
  {
   "cell_type": "code",
   "execution_count": 8,
   "metadata": {},
   "outputs": [
    {
     "name": "stdout",
     "output_type": "stream",
     "text": [
      "welcome in File Handling Wizard!!\n",
      "You can delete all the files with the certain extension e.g. .mp4\n",
      "Enter your file extension to delete!!\n",
      "sda\n",
      "Enter the full path of folder in which the extension is to be searched \n",
      "\n",
      "No path provided, Do you want to use the current Working directory | Y or N |\n",
      "y\n"
     ]
    }
   ],
   "source": [
    "print (\"welcome in File Handling Wizard!!\")\n",
    "print (\"You can delete all the files with the certain extension e.g. .mp4\")\n",
    "print (\"Enter your file extension to delete!!\")\n",
    "extension = input()\n",
    "print (\"Enter the full path of folder in which the extension is to be searched \")\n",
    "path = input()\n",
    "\n",
    "if (path == \"\"):\n",
    "    print (\"No path provided, Do you want to use the current Working directory | Y or N |\")\n",
    "    choice = input()\n",
    "    if (choice == 'Y' or choice == 'y'):\n",
    "        path = os.getcwd()\n",
    "    elif (choice == 'N' or choice == 'n'):\n",
    "        pass\n",
    "    else :\n",
    "        print(\"wrong choice!!! Exiting\")\n",
    "\n",
    "noSuchDirectory = True\n",
    "\n",
    "if (type(extension) == str and type(path) == str):\n",
    "    for files in os.walk(path):\n",
    "        noSuchDirectory = False\n",
    "        for file in files:\n",
    "            traversetree(file)\n",
    "\n",
    "if (noSuchDirectory):\n",
    "    print (\"Wrong Path Provided: No such File or Directory!!\")"
   ]
  },
  {
   "cell_type": "code",
   "execution_count": 9,
   "metadata": {},
   "outputs": [],
   "source": [
    "def traversetree(path):\n",
    "    if (type(path) == str):\n",
    "        if (path.endswith(\".txt\")):\n",
    "            print(\"here Write Your code : \" + path)\n",
    "            \n",
    "        return\n",
    "    if (type(path) == list):\n",
    "        for r in path:\n",
    "            traversetree(r)            \n",
    "    return"
   ]
  },
  {
   "cell_type": "code",
   "execution_count": 13,
   "metadata": {},
   "outputs": [
    {
     "name": "stdout",
     "output_type": "stream",
     "text": [
      "/home/abhishek99/Documents/Untitled Folder\n",
      "['.ipynb_checkpoints', 'q']\n",
      "['Untitled.ipynb', 'DirActions.py', 'sasas.txt']\n",
      "/home/abhishek99/Documents/Untitled Folder/.ipynb_checkpoints\n",
      "[]\n",
      "['Untitled-checkpoint.ipynb']\n",
      "/home/abhishek99/Documents/Untitled Folder/q\n",
      "[]\n",
      "['ab.txt']\n"
     ]
    }
   ],
   "source": [
    "for x in os.walk(os.getcwd()):\n",
    "    for y in x:\n",
    "        print(y)\n",
    "#         traversetree(y)"
   ]
  },
  {
   "cell_type": "code",
   "execution_count": 7,
   "metadata": {},
   "outputs": [],
   "source": [
    "h = \"agb\"\n",
    "h.startswith?"
   ]
  },
  {
   "cell_type": "code",
   "execution_count": 5,
   "metadata": {},
   "outputs": [
    {
     "name": "stdout",
     "output_type": "stream",
     "text": [
      "chutiya\n",
      "hoshdoh\n"
     ]
    }
   ],
   "source": [
    "a = \"abc\"\n",
    "\n",
    "def anyFunction(anyArg):\n",
    "    global a\n",
    "    print(a)\n",
    "    list = []\n",
    "    if (anyArg.endswith(\"abc\")):\n",
    "       a = \"hoshdoh\"\n",
    "\n",
    "anyFunction(\"abc\")\n",
    "anyFunction(\"hi\")"
   ]
  },
  {
   "cell_type": "code",
   "execution_count": 1,
   "metadata": {},
   "outputs": [],
   "source": [
    "print?"
   ]
  },
  {
   "cell_type": "code",
   "execution_count": 7,
   "metadata": {},
   "outputs": [
    {
     "name": "stdout",
     "output_type": "stream",
     "text": [
      "h\n",
      "e\n",
      "l\n",
      "l\n",
      "o\n",
      " \n",
      "w\n",
      "o\n",
      "r\n",
      "l\n",
      "d\n",
      "!\n",
      "!\n"
     ]
    }
   ],
   "source": [
    "s = \"hello world!!\"\n",
    "for c in s:\n",
    "    time.sleep(0.1)\n",
    "    print(c, sep='')"
   ]
  },
  {
   "cell_type": "code",
   "execution_count": null,
   "metadata": {},
   "outputs": [],
   "source": []
  }
 ],
 "metadata": {
  "kernelspec": {
   "display_name": "Python 3",
   "language": "python",
   "name": "python3"
  },
  "language_info": {
   "codemirror_mode": {
    "name": "ipython",
    "version": 3
   },
   "file_extension": ".py",
   "mimetype": "text/x-python",
   "name": "python",
   "nbconvert_exporter": "python",
   "pygments_lexer": "ipython3",
   "version": "3.6.9"
  }
 },
 "nbformat": 4,
 "nbformat_minor": 4
}
